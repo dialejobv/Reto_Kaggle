{
  "nbformat": 4,
  "nbformat_minor": 0,
  "metadata": {
    "colab": {
      "provenance": []
    },
    "kernelspec": {
      "name": "python3",
      "display_name": "Python 3"
    },
    "language_info": {
      "name": "python"
    }
  },
  "cells": [
    {
      "cell_type": "markdown",
      "source": [
        "# **Desarrollo algoritmo de predicción de los torneos de baloncesto de la NCAA de 2025 Liga Femenina**"
      ],
      "metadata": {
        "id": "ehwvESKOhc4r"
      }
    },
    {
      "cell_type": "markdown",
      "source": [
        "**Primer paso:** Procedo a cargar los datos del archivo"
      ],
      "metadata": {
        "id": "v7H11X3whpXN"
      }
    },
    {
      "cell_type": "code",
      "execution_count": 1,
      "metadata": {
        "id": "caWXVbTghWr_"
      },
      "outputs": [],
      "source": [
        "import pandas as pd\n",
        "from sklearn.linear_model import LogisticRegression\n",
        "import numpy as np\n",
        "import itertools\n",
        "\n",
        "# Cargar datos de temporada regular\n",
        "df = pd.read_csv(\"WRegularSeasonDetailedResults.csv\")"
      ]
    },
    {
      "cell_type": "markdown",
      "source": [
        "**Ahora procedo a desarrollar la visualización de los parámetros que tengo en el archivo csv teniendo:**"
      ],
      "metadata": {
        "id": "BLt7P5qdiBLC"
      }
    },
    {
      "cell_type": "code",
      "source": [
        "df.head()"
      ],
      "metadata": {
        "colab": {
          "base_uri": "https://localhost:8080/",
          "height": 255
        },
        "id": "RLKMvAYjidDE",
        "outputId": "9e55c000-9860-4378-dcfb-4a30f8b0251d"
      },
      "execution_count": 2,
      "outputs": [
        {
          "output_type": "execute_result",
          "data": {
            "text/plain": [
              "   Season  DayNum  WTeamID  WScore  LTeamID  LScore WLoc  NumOT  WFGM  WFGA  \\\n",
              "0    2010      11     3103      63     3237      49    H      0    23    54   \n",
              "1    2010      11     3104      73     3399      68    N      0    26    62   \n",
              "2    2010      11     3110      71     3224      59    A      0    29    62   \n",
              "3    2010      11     3111      63     3267      58    A      0    27    52   \n",
              "4    2010      11     3119      74     3447      70    H      1    30    74   \n",
              "\n",
              "   ...  LFGA3  LFTM  LFTA  LOR  LDR  LAst  LTO  LStl  LBlk  LPF  \n",
              "0  ...     13     6    10   11   27    11   23     7     6   19  \n",
              "1  ...     21    14    27   14   26     7   20     4     2   27  \n",
              "2  ...     14    19    23   17   23     8   15     6     0   15  \n",
              "3  ...     26    16    25   22   22    15   11    14     5   14  \n",
              "4  ...     17    11    21   21   32    12   14     4     2   14  \n",
              "\n",
              "[5 rows x 34 columns]"
            ],
            "text/html": [
              "\n",
              "  <div id=\"df-222efc39-5b8b-4732-9385-d16fc5142b20\" class=\"colab-df-container\">\n",
              "    <div>\n",
              "<style scoped>\n",
              "    .dataframe tbody tr th:only-of-type {\n",
              "        vertical-align: middle;\n",
              "    }\n",
              "\n",
              "    .dataframe tbody tr th {\n",
              "        vertical-align: top;\n",
              "    }\n",
              "\n",
              "    .dataframe thead th {\n",
              "        text-align: right;\n",
              "    }\n",
              "</style>\n",
              "<table border=\"1\" class=\"dataframe\">\n",
              "  <thead>\n",
              "    <tr style=\"text-align: right;\">\n",
              "      <th></th>\n",
              "      <th>Season</th>\n",
              "      <th>DayNum</th>\n",
              "      <th>WTeamID</th>\n",
              "      <th>WScore</th>\n",
              "      <th>LTeamID</th>\n",
              "      <th>LScore</th>\n",
              "      <th>WLoc</th>\n",
              "      <th>NumOT</th>\n",
              "      <th>WFGM</th>\n",
              "      <th>WFGA</th>\n",
              "      <th>...</th>\n",
              "      <th>LFGA3</th>\n",
              "      <th>LFTM</th>\n",
              "      <th>LFTA</th>\n",
              "      <th>LOR</th>\n",
              "      <th>LDR</th>\n",
              "      <th>LAst</th>\n",
              "      <th>LTO</th>\n",
              "      <th>LStl</th>\n",
              "      <th>LBlk</th>\n",
              "      <th>LPF</th>\n",
              "    </tr>\n",
              "  </thead>\n",
              "  <tbody>\n",
              "    <tr>\n",
              "      <th>0</th>\n",
              "      <td>2010</td>\n",
              "      <td>11</td>\n",
              "      <td>3103</td>\n",
              "      <td>63</td>\n",
              "      <td>3237</td>\n",
              "      <td>49</td>\n",
              "      <td>H</td>\n",
              "      <td>0</td>\n",
              "      <td>23</td>\n",
              "      <td>54</td>\n",
              "      <td>...</td>\n",
              "      <td>13</td>\n",
              "      <td>6</td>\n",
              "      <td>10</td>\n",
              "      <td>11</td>\n",
              "      <td>27</td>\n",
              "      <td>11</td>\n",
              "      <td>23</td>\n",
              "      <td>7</td>\n",
              "      <td>6</td>\n",
              "      <td>19</td>\n",
              "    </tr>\n",
              "    <tr>\n",
              "      <th>1</th>\n",
              "      <td>2010</td>\n",
              "      <td>11</td>\n",
              "      <td>3104</td>\n",
              "      <td>73</td>\n",
              "      <td>3399</td>\n",
              "      <td>68</td>\n",
              "      <td>N</td>\n",
              "      <td>0</td>\n",
              "      <td>26</td>\n",
              "      <td>62</td>\n",
              "      <td>...</td>\n",
              "      <td>21</td>\n",
              "      <td>14</td>\n",
              "      <td>27</td>\n",
              "      <td>14</td>\n",
              "      <td>26</td>\n",
              "      <td>7</td>\n",
              "      <td>20</td>\n",
              "      <td>4</td>\n",
              "      <td>2</td>\n",
              "      <td>27</td>\n",
              "    </tr>\n",
              "    <tr>\n",
              "      <th>2</th>\n",
              "      <td>2010</td>\n",
              "      <td>11</td>\n",
              "      <td>3110</td>\n",
              "      <td>71</td>\n",
              "      <td>3224</td>\n",
              "      <td>59</td>\n",
              "      <td>A</td>\n",
              "      <td>0</td>\n",
              "      <td>29</td>\n",
              "      <td>62</td>\n",
              "      <td>...</td>\n",
              "      <td>14</td>\n",
              "      <td>19</td>\n",
              "      <td>23</td>\n",
              "      <td>17</td>\n",
              "      <td>23</td>\n",
              "      <td>8</td>\n",
              "      <td>15</td>\n",
              "      <td>6</td>\n",
              "      <td>0</td>\n",
              "      <td>15</td>\n",
              "    </tr>\n",
              "    <tr>\n",
              "      <th>3</th>\n",
              "      <td>2010</td>\n",
              "      <td>11</td>\n",
              "      <td>3111</td>\n",
              "      <td>63</td>\n",
              "      <td>3267</td>\n",
              "      <td>58</td>\n",
              "      <td>A</td>\n",
              "      <td>0</td>\n",
              "      <td>27</td>\n",
              "      <td>52</td>\n",
              "      <td>...</td>\n",
              "      <td>26</td>\n",
              "      <td>16</td>\n",
              "      <td>25</td>\n",
              "      <td>22</td>\n",
              "      <td>22</td>\n",
              "      <td>15</td>\n",
              "      <td>11</td>\n",
              "      <td>14</td>\n",
              "      <td>5</td>\n",
              "      <td>14</td>\n",
              "    </tr>\n",
              "    <tr>\n",
              "      <th>4</th>\n",
              "      <td>2010</td>\n",
              "      <td>11</td>\n",
              "      <td>3119</td>\n",
              "      <td>74</td>\n",
              "      <td>3447</td>\n",
              "      <td>70</td>\n",
              "      <td>H</td>\n",
              "      <td>1</td>\n",
              "      <td>30</td>\n",
              "      <td>74</td>\n",
              "      <td>...</td>\n",
              "      <td>17</td>\n",
              "      <td>11</td>\n",
              "      <td>21</td>\n",
              "      <td>21</td>\n",
              "      <td>32</td>\n",
              "      <td>12</td>\n",
              "      <td>14</td>\n",
              "      <td>4</td>\n",
              "      <td>2</td>\n",
              "      <td>14</td>\n",
              "    </tr>\n",
              "  </tbody>\n",
              "</table>\n",
              "<p>5 rows × 34 columns</p>\n",
              "</div>\n",
              "    <div class=\"colab-df-buttons\">\n",
              "\n",
              "  <div class=\"colab-df-container\">\n",
              "    <button class=\"colab-df-convert\" onclick=\"convertToInteractive('df-222efc39-5b8b-4732-9385-d16fc5142b20')\"\n",
              "            title=\"Convert this dataframe to an interactive table.\"\n",
              "            style=\"display:none;\">\n",
              "\n",
              "  <svg xmlns=\"http://www.w3.org/2000/svg\" height=\"24px\" viewBox=\"0 -960 960 960\">\n",
              "    <path d=\"M120-120v-720h720v720H120Zm60-500h600v-160H180v160Zm220 220h160v-160H400v160Zm0 220h160v-160H400v160ZM180-400h160v-160H180v160Zm440 0h160v-160H620v160ZM180-180h160v-160H180v160Zm440 0h160v-160H620v160Z\"/>\n",
              "  </svg>\n",
              "    </button>\n",
              "\n",
              "  <style>\n",
              "    .colab-df-container {\n",
              "      display:flex;\n",
              "      gap: 12px;\n",
              "    }\n",
              "\n",
              "    .colab-df-convert {\n",
              "      background-color: #E8F0FE;\n",
              "      border: none;\n",
              "      border-radius: 50%;\n",
              "      cursor: pointer;\n",
              "      display: none;\n",
              "      fill: #1967D2;\n",
              "      height: 32px;\n",
              "      padding: 0 0 0 0;\n",
              "      width: 32px;\n",
              "    }\n",
              "\n",
              "    .colab-df-convert:hover {\n",
              "      background-color: #E2EBFA;\n",
              "      box-shadow: 0px 1px 2px rgba(60, 64, 67, 0.3), 0px 1px 3px 1px rgba(60, 64, 67, 0.15);\n",
              "      fill: #174EA6;\n",
              "    }\n",
              "\n",
              "    .colab-df-buttons div {\n",
              "      margin-bottom: 4px;\n",
              "    }\n",
              "\n",
              "    [theme=dark] .colab-df-convert {\n",
              "      background-color: #3B4455;\n",
              "      fill: #D2E3FC;\n",
              "    }\n",
              "\n",
              "    [theme=dark] .colab-df-convert:hover {\n",
              "      background-color: #434B5C;\n",
              "      box-shadow: 0px 1px 3px 1px rgba(0, 0, 0, 0.15);\n",
              "      filter: drop-shadow(0px 1px 2px rgba(0, 0, 0, 0.3));\n",
              "      fill: #FFFFFF;\n",
              "    }\n",
              "  </style>\n",
              "\n",
              "    <script>\n",
              "      const buttonEl =\n",
              "        document.querySelector('#df-222efc39-5b8b-4732-9385-d16fc5142b20 button.colab-df-convert');\n",
              "      buttonEl.style.display =\n",
              "        google.colab.kernel.accessAllowed ? 'block' : 'none';\n",
              "\n",
              "      async function convertToInteractive(key) {\n",
              "        const element = document.querySelector('#df-222efc39-5b8b-4732-9385-d16fc5142b20');\n",
              "        const dataTable =\n",
              "          await google.colab.kernel.invokeFunction('convertToInteractive',\n",
              "                                                    [key], {});\n",
              "        if (!dataTable) return;\n",
              "\n",
              "        const docLinkHtml = 'Like what you see? Visit the ' +\n",
              "          '<a target=\"_blank\" href=https://colab.research.google.com/notebooks/data_table.ipynb>data table notebook</a>'\n",
              "          + ' to learn more about interactive tables.';\n",
              "        element.innerHTML = '';\n",
              "        dataTable['output_type'] = 'display_data';\n",
              "        await google.colab.output.renderOutput(dataTable, element);\n",
              "        const docLink = document.createElement('div');\n",
              "        docLink.innerHTML = docLinkHtml;\n",
              "        element.appendChild(docLink);\n",
              "      }\n",
              "    </script>\n",
              "  </div>\n",
              "\n",
              "\n",
              "    <div id=\"df-b89727e0-00b0-4fa8-88ba-bb93600da607\">\n",
              "      <button class=\"colab-df-quickchart\" onclick=\"quickchart('df-b89727e0-00b0-4fa8-88ba-bb93600da607')\"\n",
              "                title=\"Suggest charts\"\n",
              "                style=\"display:none;\">\n",
              "\n",
              "<svg xmlns=\"http://www.w3.org/2000/svg\" height=\"24px\"viewBox=\"0 0 24 24\"\n",
              "     width=\"24px\">\n",
              "    <g>\n",
              "        <path d=\"M19 3H5c-1.1 0-2 .9-2 2v14c0 1.1.9 2 2 2h14c1.1 0 2-.9 2-2V5c0-1.1-.9-2-2-2zM9 17H7v-7h2v7zm4 0h-2V7h2v10zm4 0h-2v-4h2v4z\"/>\n",
              "    </g>\n",
              "</svg>\n",
              "      </button>\n",
              "\n",
              "<style>\n",
              "  .colab-df-quickchart {\n",
              "      --bg-color: #E8F0FE;\n",
              "      --fill-color: #1967D2;\n",
              "      --hover-bg-color: #E2EBFA;\n",
              "      --hover-fill-color: #174EA6;\n",
              "      --disabled-fill-color: #AAA;\n",
              "      --disabled-bg-color: #DDD;\n",
              "  }\n",
              "\n",
              "  [theme=dark] .colab-df-quickchart {\n",
              "      --bg-color: #3B4455;\n",
              "      --fill-color: #D2E3FC;\n",
              "      --hover-bg-color: #434B5C;\n",
              "      --hover-fill-color: #FFFFFF;\n",
              "      --disabled-bg-color: #3B4455;\n",
              "      --disabled-fill-color: #666;\n",
              "  }\n",
              "\n",
              "  .colab-df-quickchart {\n",
              "    background-color: var(--bg-color);\n",
              "    border: none;\n",
              "    border-radius: 50%;\n",
              "    cursor: pointer;\n",
              "    display: none;\n",
              "    fill: var(--fill-color);\n",
              "    height: 32px;\n",
              "    padding: 0;\n",
              "    width: 32px;\n",
              "  }\n",
              "\n",
              "  .colab-df-quickchart:hover {\n",
              "    background-color: var(--hover-bg-color);\n",
              "    box-shadow: 0 1px 2px rgba(60, 64, 67, 0.3), 0 1px 3px 1px rgba(60, 64, 67, 0.15);\n",
              "    fill: var(--button-hover-fill-color);\n",
              "  }\n",
              "\n",
              "  .colab-df-quickchart-complete:disabled,\n",
              "  .colab-df-quickchart-complete:disabled:hover {\n",
              "    background-color: var(--disabled-bg-color);\n",
              "    fill: var(--disabled-fill-color);\n",
              "    box-shadow: none;\n",
              "  }\n",
              "\n",
              "  .colab-df-spinner {\n",
              "    border: 2px solid var(--fill-color);\n",
              "    border-color: transparent;\n",
              "    border-bottom-color: var(--fill-color);\n",
              "    animation:\n",
              "      spin 1s steps(1) infinite;\n",
              "  }\n",
              "\n",
              "  @keyframes spin {\n",
              "    0% {\n",
              "      border-color: transparent;\n",
              "      border-bottom-color: var(--fill-color);\n",
              "      border-left-color: var(--fill-color);\n",
              "    }\n",
              "    20% {\n",
              "      border-color: transparent;\n",
              "      border-left-color: var(--fill-color);\n",
              "      border-top-color: var(--fill-color);\n",
              "    }\n",
              "    30% {\n",
              "      border-color: transparent;\n",
              "      border-left-color: var(--fill-color);\n",
              "      border-top-color: var(--fill-color);\n",
              "      border-right-color: var(--fill-color);\n",
              "    }\n",
              "    40% {\n",
              "      border-color: transparent;\n",
              "      border-right-color: var(--fill-color);\n",
              "      border-top-color: var(--fill-color);\n",
              "    }\n",
              "    60% {\n",
              "      border-color: transparent;\n",
              "      border-right-color: var(--fill-color);\n",
              "    }\n",
              "    80% {\n",
              "      border-color: transparent;\n",
              "      border-right-color: var(--fill-color);\n",
              "      border-bottom-color: var(--fill-color);\n",
              "    }\n",
              "    90% {\n",
              "      border-color: transparent;\n",
              "      border-bottom-color: var(--fill-color);\n",
              "    }\n",
              "  }\n",
              "</style>\n",
              "\n",
              "      <script>\n",
              "        async function quickchart(key) {\n",
              "          const quickchartButtonEl =\n",
              "            document.querySelector('#' + key + ' button');\n",
              "          quickchartButtonEl.disabled = true;  // To prevent multiple clicks.\n",
              "          quickchartButtonEl.classList.add('colab-df-spinner');\n",
              "          try {\n",
              "            const charts = await google.colab.kernel.invokeFunction(\n",
              "                'suggestCharts', [key], {});\n",
              "          } catch (error) {\n",
              "            console.error('Error during call to suggestCharts:', error);\n",
              "          }\n",
              "          quickchartButtonEl.classList.remove('colab-df-spinner');\n",
              "          quickchartButtonEl.classList.add('colab-df-quickchart-complete');\n",
              "        }\n",
              "        (() => {\n",
              "          let quickchartButtonEl =\n",
              "            document.querySelector('#df-b89727e0-00b0-4fa8-88ba-bb93600da607 button');\n",
              "          quickchartButtonEl.style.display =\n",
              "            google.colab.kernel.accessAllowed ? 'block' : 'none';\n",
              "        })();\n",
              "      </script>\n",
              "    </div>\n",
              "\n",
              "    </div>\n",
              "  </div>\n"
            ],
            "application/vnd.google.colaboratory.intrinsic+json": {
              "type": "dataframe",
              "variable_name": "df"
            }
          },
          "metadata": {},
          "execution_count": 2
        }
      ]
    },
    {
      "cell_type": "markdown",
      "source": [
        "**Posteriormente calculo las estadísticas por equipo y desarrollo el siguiente paso:**"
      ],
      "metadata": {
        "id": "Uz4dRwN4i7QI"
      }
    },
    {
      "cell_type": "code",
      "source": [
        "winner_stats = df.groupby('WTeamID').agg({\n",
        "    'WScore': ['sum', 'count'],\n",
        "    'LScore': 'sum',\n",
        "    'WFGM': 'sum', 'WFGA': 'sum',\n",
        "    'WFGM3': 'sum', 'WFGA3': 'sum',\n",
        "    'WFTM': 'sum', 'WFTA': 'sum',\n",
        "    'WOR': 'sum', 'WDR': 'sum',  # Corregido WOR -> WOR, WDR -> WDR\n",
        "    'WAst': 'sum', 'WTO': 'sum',\n",
        "    'WStl': 'sum', 'WBlk': 'sum',\n",
        "    'WPF': 'sum'\n",
        "}).reset_index()\n",
        "winner_stats.columns = ['TeamID', 'WScore_sum', 'games_won', 'LScore_sum_w',\n",
        "                        'WFGM_sum', 'WFGA_sum', 'WFGM3_sum', 'WFGA3_sum',\n",
        "                        'WFTM_sum', 'WFTA_sum', 'WOR_sum', 'WDR_sum',\n",
        "                        'WAst_sum', 'WTO_sum', 'WStl_sum', 'WBlk_sum', 'WPF_sum']\n",
        "\n",
        "loser_stats = df.groupby('LTeamID').agg({\n",
        "    'LScore': ['sum', 'count'],\n",
        "    'WScore': 'sum',\n",
        "    'LFGM': 'sum', 'LFGA': 'sum',\n",
        "    'LFGM3': 'sum', 'LFGA3': 'sum',\n",
        "    'LFTM': 'sum', 'LFTA': 'sum',\n",
        "    'LOR': 'sum', 'LDR': 'sum',  # Corregido LOR -> LOR, LDR -> LDR\n",
        "    'LAst': 'sum', 'LTO': 'sum',\n",
        "    'LStl': 'sum', 'LBlk': 'sum',\n",
        "    'LPF': 'sum'\n",
        "}).reset_index()\n",
        "loser_stats.columns = ['TeamID', 'LScore_sum', 'games_lost', 'WScore_sum_l',\n",
        "                       'LFGM_sum', 'LFGA_sum', 'LFGM3_sum', 'LFGA3_sum',\n",
        "                       'LFTM_sum', 'LFTA_sum', 'LOR_sum', 'LDR_sum',\n",
        "                       'LAst_sum', 'LTO_sum', 'LStl_sum', 'LBlk_sum', 'LPF_sum']\n",
        "\n",
        "# Combinar estadísticas\n",
        "team_stats = pd.merge(winner_stats, loser_stats, on='TeamID', how='outer').fillna(0)\n",
        "\n",
        "# Calcular estadísticas totales\n",
        "team_stats['games'] = team_stats['games_won'] + team_stats['games_lost']\n",
        "team_stats['points_scored'] = team_stats['WScore_sum'] + team_stats['LScore_sum']\n",
        "team_stats['points_allowed'] = team_stats['LScore_sum_w'] + team_stats['WScore_sum_l']\n",
        "\n",
        "# Calcular estadísticas avanzadas\n",
        "team_stats['FGM'] = team_stats['WFGM_sum'] + team_stats['LFGM_sum']\n",
        "team_stats['FGA'] = team_stats['WFGA_sum'] + team_stats['LFGA_sum']\n",
        "team_stats['FGM3'] = team_stats['WFGM3_sum'] + team_stats['LFGM3_sum']\n",
        "team_stats['FGA3'] = team_stats['WFGA3_sum'] + team_stats['LFGA3_sum']\n",
        "team_stats['FTM'] = team_stats['WFTM_sum'] + team_stats['LFTM_sum']\n",
        "team_stats['FTA'] = team_stats['WFTA_sum'] + team_stats['LFTA_sum']\n",
        "team_stats['ORB'] = team_stats['WOR_sum'] + team_stats['LOR_sum']  # Rebotes ofensivos\n",
        "team_stats['DRB'] = team_stats['WDR_sum'] + team_stats['LDR_sum']  # Rebotes defensivos\n",
        "team_stats['Ast'] = team_stats['WAst_sum'] + team_stats['LAst_sum']\n",
        "team_stats['TO'] = team_stats['WTO_sum'] + team_stats['LTO_sum']\n",
        "team_stats['Stl'] = team_stats['WStl_sum'] + team_stats['LStl_sum']\n",
        "team_stats['Blk'] = team_stats['WBlk_sum'] + team_stats['LBlk_sum']\n",
        "team_stats['PF'] = team_stats['WPF_sum'] + team_stats['LPF_sum']\n",
        "\n",
        "# Calcular promedios y porcentajes\n",
        "team_stats['PPG'] = team_stats['points_scored'] / team_stats['games']\n",
        "team_stats['PPG_allowed'] = team_stats['points_allowed'] / team_stats['games']\n",
        "team_stats['FG%'] = team_stats['FGM'] / team_stats['FGA']\n",
        "team_stats['3P%'] = team_stats['FGM3'] / team_stats['FGA3']\n",
        "team_stats['FT%'] = team_stats['FTM'] / team_stats['FTA']"
      ],
      "metadata": {
        "id": "dX-WqjvPi6v3"
      },
      "execution_count": 3,
      "outputs": []
    },
    {
      "cell_type": "markdown",
      "source": [
        "**Ahora genero los diferentes promedios teniendo:**"
      ],
      "metadata": {
        "id": "TT6Vj4BxjVZu"
      }
    },
    {
      "cell_type": "code",
      "source": [
        "# Promedios por juego\n",
        "for stat in ['ORB', 'DRB', 'Ast', 'TO', 'Stl', 'Blk', 'PF']:\n",
        "    team_stats[f'{stat}_pg'] = team_stats[stat] / team_stats['games']"
      ],
      "metadata": {
        "id": "hNv_Lm00jax-"
      },
      "execution_count": 4,
      "outputs": []
    },
    {
      "cell_type": "markdown",
      "source": [
        "**Y procedo a preparar los datos de entrenamiento, teniendo:**"
      ],
      "metadata": {
        "id": "k91fRaiAjezo"
      }
    },
    {
      "cell_type": "code",
      "source": [
        "X_train = []\n",
        "y_train = []\n",
        "stats = ['PPG', 'PPG_allowed', 'FG%', '3P%', 'FT%', 'ORB_pg', 'DRB_pg',\n",
        "         'Ast_pg', 'TO_pg', 'Stl_pg', 'Blk_pg', 'PF_pg']\n",
        "\n",
        "team_dict = team_stats.set_index('TeamID').to_dict('index')\n",
        "\n",
        "for _, row in df.iterrows():\n",
        "    wteam = row['WTeamID']\n",
        "    lteam = row['LTeamID']\n",
        "    wloc = row['WLoc']\n",
        "\n",
        "    # Mapeo de ubicación\n",
        "    loc_map = {'H': 1, 'A': -1, 'N': 0}\n",
        "    loc_val = loc_map.get(wloc, 0)\n",
        "\n",
        "    # Características para el ganador como equipo A\n",
        "    features = [team_dict[wteam][s] for s in stats] + [team_dict[lteam][s] for s in stats] + [loc_val]\n",
        "    X_train.append(features)\n",
        "    y_train.append(1)  # Equipo A (ganador) gana\n",
        "\n",
        "    # Características para el perdedor como equipo A\n",
        "    features = [team_dict[lteam][s] for s in stats] + [team_dict[wteam][s] for s in stats] + [-loc_val if loc_val != 0 else 0]\n",
        "    X_train.append(features)\n",
        "    y_train.append(0)  # Equipo A (perdedor) pierde\n"
      ],
      "metadata": {
        "id": "zPl3GK7ojnW6"
      },
      "execution_count": 5,
      "outputs": []
    },
    {
      "cell_type": "markdown",
      "source": [
        "**Ahora procedo a entrenar el modelo, cargar las semillas y procesar las semillas teniendo:**"
      ],
      "metadata": {
        "id": "kXZg1tSyjyQM"
      }
    },
    {
      "cell_type": "code",
      "source": [
        "# Entrenar modelo\n",
        "model = LogisticRegression(max_iter=1000, random_state=42, n_jobs=-1)\n",
        "model.fit(X_train, y_train)\n",
        "\n",
        "# Cargar semillas del torneo\n",
        "seeds_df = pd.read_csv(\"WNCAATourneySeeds.csv\")\n",
        "seeds_2025 = seeds_df[seeds_df['Season'] == 2025].copy()\n",
        "\n",
        "# Procesar semillas\n",
        "def parse_seed(seed):\n",
        "    seed_num = seed[1:]\n",
        "    if seed_num[-1].isalpha():\n",
        "        return int(seed_num[:-1]), seed_num[-1]\n",
        "    return int(seed_num), None\n",
        "\n",
        "seeds_2025['seed_num'] = seeds_2025['Seed'].apply(lambda x: parse_seed(x)[0])\n",
        "seeds_2025['playin'] = seeds_2025['Seed'].apply(lambda x: parse_seed(x)[1])"
      ],
      "metadata": {
        "id": "j0JH_qaKjvJM"
      },
      "execution_count": 10,
      "outputs": []
    },
    {
      "cell_type": "markdown",
      "source": [
        "**Desarrollo ahora una función para la predicción de partidos**"
      ],
      "metadata": {
        "id": "WEgpF6mzkKbq"
      }
    },
    {
      "cell_type": "code",
      "source": [
        "# Función para predecir partidos\n",
        "def predict_game(team1, team2, location=0):\n",
        "    features = [team_dict[team1][s] for s in stats] + [team_dict[team2][s] for s in stats] + [location]\n",
        "    prob = model.predict_proba([features])[0][1]\n",
        "    return (team1 if prob >= 0.5 else team2, prob)"
      ],
      "metadata": {
        "id": "gHbB0xg5kSqU"
      },
      "execution_count": 11,
      "outputs": []
    },
    {
      "cell_type": "markdown",
      "source": [
        "**Ahora genero la simulación del play-in**"
      ],
      "metadata": {
        "id": "KEa2rEnVkX2s"
      }
    },
    {
      "cell_type": "code",
      "source": [
        "# Simular First Four (Play-in)\n",
        "playin_games = seeds_2025[seeds_2025['playin'].notnull()]\n",
        "playin_winners = {}\n",
        "\n",
        "for _, row in playin_games.iterrows():\n",
        "    region = row['Seed'][0]\n",
        "    seed_num = row['seed_num']\n",
        "    key = (region, seed_num)\n",
        "\n",
        "    if key not in playin_winners:\n",
        "        # Encontrar el otro equipo del play-in\n",
        "        opponent = seeds_2025[\n",
        "            (seeds_2025['seed_num'] == seed_num) &\n",
        "            (seeds_2025['playin'].notnull()) &\n",
        "            (seeds_2025['TeamID'] != row['TeamID'])\n",
        "        ]\n",
        "\n",
        "        if not opponent.empty:\n",
        "            opponent_id = opponent.iloc[0]['TeamID']\n",
        "            winner, prob = predict_game(row['TeamID'], opponent_id)\n",
        "            playin_winners[key] = winner\n",
        "            print(f\"Play-in {region}{seed_num}: {row['TeamID']} vs {opponent_id} -> Ganador: {winner} ({prob:.2%})\")\n"
      ],
      "metadata": {
        "colab": {
          "base_uri": "https://localhost:8080/"
        },
        "id": "uKxnewSlkd-u",
        "outputId": "4703c63a-5e86-4843-e799-066965d7b46d"
      },
      "execution_count": 13,
      "outputs": [
        {
          "output_type": "stream",
          "name": "stdout",
          "text": [
            "Play-in W11: 3162 vs 3449 -> Ganador: 3449 (37.12%)\n",
            "Play-in X11: 3235 vs 3162 -> Ganador: 3235 (78.70%)\n",
            "Play-in X16: 3219 vs 3456 -> Ganador: 3219 (62.84%)\n",
            "Play-in Y16: 3380 vs 3219 -> Ganador: 3219 (31.97%)\n"
          ]
        }
      ]
    },
    {
      "cell_type": "markdown",
      "source": [
        "**Procedo a construir el bracket principal**"
      ],
      "metadata": {
        "id": "bkoE-d0mkmKf"
      }
    },
    {
      "cell_type": "code",
      "source": [
        "bracket = {}\n",
        "regions = seeds_2025['Seed'].str[0].unique()\n",
        "\n",
        "for region in regions:\n",
        "    region_teams = {}\n",
        "\n",
        "    # Agregar equipos principales (no play-in)\n",
        "    main_teams = seeds_2025[\n",
        "        (seeds_2025['Seed'].str.startswith(region)) &\n",
        "        (seeds_2025['playin'].isnull())\n",
        "    ]\n",
        "    for _, row in main_teams.iterrows():\n",
        "        region_teams[row['seed_num']] = row['TeamID']\n",
        "\n",
        "    # Agregar ganadores de play-in\n",
        "    for (r, seed_num), winner in playin_winners.items():\n",
        "        if r == region:\n",
        "            region_teams[seed_num] = winner\n",
        "\n",
        "    bracket[region] = region_teams"
      ],
      "metadata": {
        "id": "DfYZIoKSki42"
      },
      "execution_count": 14,
      "outputs": []
    },
    {
      "cell_type": "markdown",
      "source": [
        "**Función para simular región**"
      ],
      "metadata": {
        "id": "YpYYni5lku_J"
      }
    },
    {
      "cell_type": "code",
      "source": [
        "def simulate_region(teams_dict):\n",
        "    seeds = sorted(teams_dict.keys())\n",
        "    teams = [teams_dict[s] for s in seeds]\n",
        "\n",
        "    # Función para simular ronda\n",
        "    def simulate_round(matchups):\n",
        "        winners = []\n",
        "        for i, j in matchups:\n",
        "            winner, prob = predict_game(teams[i], teams[j])\n",
        "            winners.append(winner)\n",
        "        return winners\n",
        "\n",
        "    # Round of 64\n",
        "    matchups = [(0, 15), (7, 8), (4, 11), (3, 12),\n",
        "                (5, 10), (2, 13), (6, 9), (1, 14)]\n",
        "    winners = simulate_round(matchups)\n",
        "\n",
        "    # Sweet 16\n",
        "    matchups = [(0, 1), (2, 3), (4, 5), (6, 7)]\n",
        "    sweet16 = simulate_round(matchups)\n",
        "\n",
        "    # Elite Eight\n",
        "    matchups = [(0, 1), (2, 3)]\n",
        "    elite8 = simulate_round(matchups)\n",
        "\n",
        "    # Final Four de región\n",
        "    champion, prob = predict_game(elite8[0], elite8[1])\n",
        "    return champion"
      ],
      "metadata": {
        "id": "8VP-F1WOk2zL"
      },
      "execution_count": 15,
      "outputs": []
    },
    {
      "cell_type": "markdown",
      "source": [
        "**Desarrollo de la Simulación de Todas las Regiones**"
      ],
      "metadata": {
        "id": "uKY6pYHek33z"
      }
    },
    {
      "cell_type": "code",
      "source": [
        "region_champions = {}\n",
        "for region, teams_dict in bracket.items():\n",
        "    champion = simulate_region(teams_dict)\n",
        "    region_champions[region] = champion\n",
        "    print(f\"\\n🏆 Campeón de la región {region}: {champion}\")"
      ],
      "metadata": {
        "colab": {
          "base_uri": "https://localhost:8080/"
        },
        "id": "MorWYLNdk9Qc",
        "outputId": "b1b3492c-ef31-4fdf-c91c-1e062dcac5ef"
      },
      "execution_count": 16,
      "outputs": [
        {
          "output_type": "stream",
          "name": "stdout",
          "text": [
            "\n",
            "🏆 Campeón de la región W: 3376\n",
            "\n",
            "🏆 Campeón de la región X: 3323\n",
            "\n",
            "🏆 Campeón de la región Y: 3124\n",
            "\n",
            "🏆 Campeón de la región Z: 3163\n"
          ]
        }
      ]
    },
    {
      "cell_type": "markdown",
      "source": [
        "**Simulación Semifinales**"
      ],
      "metadata": {
        "id": "V-72k9s3lF8H"
      }
    },
    {
      "cell_type": "code",
      "source": [
        "print(\"\\n=== FINAL FOUR ===\")\n",
        "semifinal_winners = []\n",
        "ff_matchups = list(itertools.combinations(region_champions.keys(), 2))[:2]  # Tomar 2 matchups\n",
        "\n",
        "for i, (reg1, reg2) in enumerate(ff_matchups):\n",
        "    team1 = region_champions[reg1]\n",
        "    team2 = region_champions[reg2]\n",
        "    winner, prob = predict_game(team1, team2)\n",
        "    semifinal_winners.append(winner)\n",
        "    print(f\"Semifinal {i+1}: {reg1} ({team1}) vs {reg2} ({team2}) -> Ganador: {winner} ({prob:.2%})\")"
      ],
      "metadata": {
        "colab": {
          "base_uri": "https://localhost:8080/"
        },
        "id": "Vi8ANoTllFl2",
        "outputId": "7f8501a8-82d4-4a7a-c73e-b83206a155db"
      },
      "execution_count": 17,
      "outputs": [
        {
          "output_type": "stream",
          "name": "stdout",
          "text": [
            "\n",
            "=== FINAL FOUR ===\n",
            "Semifinal 1: W (3376) vs X (3323) -> Ganador: 3376 (53.20%)\n",
            "Semifinal 2: W (3376) vs Y (3124) -> Ganador: 3124 (32.39%)\n"
          ]
        }
      ]
    },
    {
      "cell_type": "markdown",
      "source": [
        "**Simulación Final Nacional**"
      ],
      "metadata": {
        "id": "0lrSAwL7lYTD"
      }
    },
    {
      "cell_type": "code",
      "source": [
        "champion, prob = predict_game(semifinal_winners[0], semifinal_winners[1])\n",
        "print(\"\\n=== CAMPEONATO NACIONAL ===\")\n",
        "print(f\"Finalista 1: {semifinal_winners[0]}\")\n",
        "print(f\"Finalista 2: {semifinal_winners[1]}\")\n",
        "print(f\"🎉 CAMPEÓN NACIONAL: {champion} (probabilidad: {prob:.2%})\")"
      ],
      "metadata": {
        "colab": {
          "base_uri": "https://localhost:8080/"
        },
        "id": "6talLqoOlbCb",
        "outputId": "1563fe7c-e71a-4c93-a63e-6740e17f791c"
      },
      "execution_count": 18,
      "outputs": [
        {
          "output_type": "stream",
          "name": "stdout",
          "text": [
            "\n",
            "=== CAMPEONATO NACIONAL ===\n",
            "Finalista 1: 3376\n",
            "Finalista 2: 3124\n",
            "🎉 CAMPEÓN NACIONAL: 3124 (probabilidad: 32.39%)\n"
          ]
        }
      ]
    },
    {
      "cell_type": "markdown",
      "source": [
        "**Generación Archivo de Predicción Campeonato Masculino**"
      ],
      "metadata": {
        "id": "0esEATBzllBe"
      }
    },
    {
      "cell_type": "code",
      "source": [
        "pred_df = pd.DataFrame({\n",
        "    'Season': 2025,\n",
        "    'Champion': [champion],\n",
        "    'Probability': [prob]\n",
        "})\n",
        "pred_df.to_csv('tourney_predictions_2025.csv', index=False)\n",
        "print(\"\\nPredicciones guardadas en tourney_predictions_2025.csv\")"
      ],
      "metadata": {
        "colab": {
          "base_uri": "https://localhost:8080/"
        },
        "id": "9dN80EReli8t",
        "outputId": "c6acc118-c5d6-45e5-e5cf-c6338b48706c"
      },
      "execution_count": 19,
      "outputs": [
        {
          "output_type": "stream",
          "name": "stdout",
          "text": [
            "\n",
            "Predicciones guardadas en tourney_predictions_2025.csv\n"
          ]
        }
      ]
    }
  ]
}